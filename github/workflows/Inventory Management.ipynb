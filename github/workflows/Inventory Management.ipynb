{
 "cells": [
  {
   "cell_type": "code",
   "execution_count": 1,
   "metadata": {},
   "outputs": [],
   "source": [
    "# Function to load inventory data from JSON file\n",
    "def load_inventory():\n",
    "    try:\n",
    "        with open('player_inventory.json', 'r') as file:\n",
    "            inventory = json.load(file)\n",
    "        return inventory\n",
    "    except FileNotFoundError:\n",
    "        print(\"Inventory file not found! Creating a new inventory.\")\n",
    "        return {\"items\": []}\n",
    "\n",
    "# Function to save inventory data to JSON file\n",
    "def save_inventory(inventory):\n",
    "    with open('player_inventory.json', 'w') as file:\n",
    "        json.dump(inventory, file)\n",
    "    print(\"Inventory saved.\")\n"
   ]
  }
 ],
 "metadata": {
  "kernelspec": {
   "display_name": "Python 3",
   "language": "python",
   "name": "python3"
  },
  "language_info": {
   "codemirror_mode": {
    "name": "ipython",
    "version": 3
   },
   "file_extension": ".py",
   "mimetype": "text/x-python",
   "name": "python",
   "nbconvert_exporter": "python",
   "pygments_lexer": "ipython3",
   "version": "3.9.6"
  }
 },
 "nbformat": 4,
 "nbformat_minor": 2
}

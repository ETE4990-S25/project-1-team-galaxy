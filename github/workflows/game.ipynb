{
 "cells": [
  {
   "cell_type": "code",
   "execution_count": null,
   "metadata": {},
   "outputs": [],
   "source": [
    "#Start of game\n",
    "#Creating class for player profile\n",
    "#Creating classes for characters\n",
    "\n"
   ]
  },
  {
   "cell_type": "code",
   "execution_count": 15,
   "metadata": {},
   "outputs": [],
   "source": [
    "import random\n",
    "\n",
    "class Player:\n",
    "    def __init__(self, name):\n",
    "        self.name = name\n",
    "        self.health = 100\n",
    "        self.inventory = []\n",
    "    def show_inventory(self):\n",
    "        if self.inventory:\n",
    "            print(f\"{self.name}'s Inventory:\")\n",
    "            for i, item in enumerate(self.inventory, 1):\n",
    "                print(f\"{i}. {item}\")\n",
    "        else:\n",
    "            print(\"No Inventory\")\n",
    "    def add_to_inventory(self, item):\n",
    "        self.inventory.append(item)\n",
    "        print(f\"you picked: {item}\")\n",
    "        "
   ]
  },
  {
   "cell_type": "code",
   "execution_count": 16,
   "metadata": {},
   "outputs": [],
   "source": [
    "#creating planet classes\n",
    "class Planet:\n",
    "    def __init__(self, name, difficulty):\n",
    "        self.name = name\n",
    "        self.difficulty = difficulty\n",
    "        self. treasures = [\"Plasma Shield\", \"Laser Sword\", \"Alien Blaster\"]\n",
    "    def explore(self, player):\n",
    "        print(f\"You have arrived on {self.name} (With a difficulty of: {self.difficulty})\")\n",
    "        if chance_of_success > self.difficulty * 0.2:\n",
    "            print(\"You have now concorded the PLANET!\")\n",
    "            found_item = random.choice(self.treasures)\n",
    "            player.add_to_inventory(found_item)\n",
    "        else:\n",
    "            print(\"....This planet has to many extra turestials that you cannot defeat\")\n",
    "            "
   ]
  },
  {
   "cell_type": "code",
   "execution_count": 17,
   "metadata": {},
   "outputs": [],
   "source": [
    "#galaxy class\n",
    "class Galaxy:\n",
    "    def __init__(self):\n",
    "        self.planets = [\n",
    "            Planet(\"Nebula\", 1),\n",
    "            Planet(\"Area 151\", 2),\n",
    "            Planet(\"Drull\", 3),\n",
    "        ]\n",
    "    def show_planets(self):\n",
    "        print(\"Planets among this galaxy:\")\n",
    "        for i, planet in enumerate(self.planets, 1):\n",
    "            print(f\"{i}. {planet.name} (Difficulty: {planet.difficulty})\")\n",
    "            "
   ]
  },
  {
   "cell_type": "code",
   "execution_count": null,
   "metadata": {},
   "outputs": [],
   "source": [
    "#main game and player menu/start up"
   ]
  },
  {
   "cell_type": "code",
   "execution_count": null,
   "metadata": {},
   "outputs": [
    {
     "data": {
      "text/plain": [
       "Traceback (most recent call last):\n",
       "  File \"c:\\Users\\19512\\.vscode\\extensions\\ms-python.python-2025.2.0-win32-x64\\python_files\\python_server.py\", line 133, in exec_user_input\n",
       "    retval = callable_(user_input, user_globals)\n",
       "             ^^^^^^^^^^^^^^^^^^^^^^^^^^^^^^^^^^^\n",
       "  File \"<string>\", line 152\n",
       "    galaxy.planets[planet_choice = 1].explore(player)\n",
       "                   ^^^^^^^^^^^^^^^^^\n",
       "SyntaxError: invalid syntax. Maybe you meant '==' or ':=' instead of '='?\n",
       "\n"
      ]
     },
     "metadata": {},
     "output_type": "display_data"
    }
   ],
   "source": []
  }
 ],
 "metadata": {
  "kernelspec": {
   "display_name": "base",
   "language": "python",
   "name": "python3"
  },
  "language_info": {
   "codemirror_mode": {
    "name": "ipython",
    "version": 3
   },
   "file_extension": ".py",
   "mimetype": "text/x-python",
   "name": "python",
   "nbconvert_exporter": "python",
   "pygments_lexer": "ipython3",
   "version": "3.12.7"
  }
 },
 "nbformat": 4,
 "nbformat_minor": 2
}

{
 "cells": [
  {
   "cell_type": "code",
   "execution_count": null,
   "metadata": {},
   "outputs": [],
   "source": [
    "#Start of game\n",
    "#Creating class for player profile\n",
    "#Creating classes for characters\n",
    "\n"
   ]
  },
  {
   "cell_type": "code",
   "execution_count": 15,
   "metadata": {},
   "outputs": [],
   "source": [
    "import random\n",
    "\n",
    "class Player:\n",
    "    def __init__(self, name):\n",
    "        self.name = name\n",
    "        self.health = 100\n",
    "        self.inventory = []\n",
    "    def show_inventory(self):\n",
    "        if self.inventory:\n",
    "            print(f\"{self.name}'s Inventory:\")\n",
    "            for i, item in enumerate(self.inventory, 1):\n",
    "                print(f\"{i}. {item}\")\n",
    "        else:\n",
    "            print(\"No Inventory\")\n",
    "    def add_to_inventory(self, item):\n",
    "        self.inventory.append(item)\n",
    "        print(f\"you picked: {item}\")\n",
    "        "
   ]
  },
  {
   "cell_type": "code",
   "execution_count": 16,
   "metadata": {},
   "outputs": [],
   "source": [
    "#creating planet classes\n",
    "class Planet:\n",
    "    def __init__(self, name, difficulty):\n",
    "        self.name = name\n",
    "        self.difficulty = difficulty\n",
    "        self. treasures = [\"Plasma Shield\", \"Laser Sword\", \"Alien Blaster\"]\n",
    "    def explore(self, player):\n",
    "        print(f\"You have arrived on {self.name} (With a difficulty of: {self.difficulty})\")\n",
    "        if chance_of_success > self.difficulty * 0.2:\n",
    "            print(\"You have now concorded the PLANET!\")\n",
    "            found_item = random.choice(self.treasures)\n",
    "            player.add_to_inventory(found_item)\n",
    "        else:\n",
    "            print(\"....This planet has to many extra turestials that you cannot defeat\")\n",
    "            "
   ]
  },
  {
   "cell_type": "code",
   "execution_count": null,
   "metadata": {},
   "outputs": [],
   "source": [
    "#galaxy class"
   ]
  },
  {
   "cell_type": "code",
   "execution_count": null,
   "metadata": {},
   "outputs": [],
   "source": [
    "#main game and player menu/start up"
   ]
  }
 ],
 "metadata": {
  "kernelspec": {
   "display_name": "base",
   "language": "python",
   "name": "python3"
  },
  "language_info": {
   "codemirror_mode": {
    "name": "ipython",
    "version": 3
   },
   "file_extension": ".py",
   "mimetype": "text/x-python",
   "name": "python",
   "nbconvert_exporter": "python",
   "pygments_lexer": "ipython3",
   "version": "3.12.7"
  }
 },
 "nbformat": 4,
 "nbformat_minor": 2
}
